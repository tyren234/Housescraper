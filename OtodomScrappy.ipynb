{
 "cells": [
  {
   "cell_type": "code",
   "execution_count": 237,
   "id": "898827cb",
   "metadata": {},
   "outputs": [],
   "source": [
    "from selenium import webdriver\n",
    "from selenium.webdriver.common.action_chains import ActionChains\n",
    "from selenium.webdriver.common.by import By\n",
    "import time\n",
    "\n",
    "import os #MAKDIR & DELETING FILES\n",
    "import csv #COMMA SEPARATED VALUES LIBRARY"
   ]
  },
  {
   "cell_type": "code",
   "execution_count": 238,
   "id": "c1876f6e",
   "metadata": {},
   "outputs": [],
   "source": [
    "#TO WŁĄCZA STRONĘ\n",
    "PATH = r\"C:\\Users\\PC\\1st\\chromedriver.exe\"\n",
    "driver = webdriver.Chrome(PATH)\n",
    "driver.get(\"https://www.otodom.pl/pl/oferty/sprzedaz/mieszkanie/mazowieckie\")"
   ]
  },
  {
   "cell_type": "code",
   "execution_count": 239,
   "id": "59fd584d",
   "metadata": {},
   "outputs": [],
   "source": [
    "def create_folder_in_current_directory(folderName):#FOLDER NAME TO STRING - MA BYĆ W CUDZYSŁOWIE\n",
    "    try:\n",
    "        os.mkdir(folderName)\n",
    "    except:\n",
    "        print(\"Nie stworzono folderu o nazwie: '\" + folderName+\"'\")\n",
    "        \n",
    "#DIRECTORY MA BYĆ Z UKOŚNIKAMI \"/\", A NIE \"\\\"!!! POZA TYM OBA ARGUMENTY W CUDZYSŁOWACH\n",
    "def create_folder_in_given_directory(directory, folderName):\n",
    "    path = os.path.join(directory, folderName)\n",
    "    try:\n",
    "        os.mkdir(path)\n",
    "    except:\n",
    "        print(\"Nie stworzono folderu o nazwie: '\" + folderName+\"' w: \" + path)\n",
    "        \n",
    "def append_list_of_links_of_images(list, object):#object holds img elements within itself\n",
    "    images = object.find_elements_by_class_name(\"image-gallery-image\")\n",
    "    for i in range(len(images)):\n",
    "        if(images[i].get_attribute(\"src\") in imagesLinks):\n",
    "            continue\n",
    "        else:\n",
    "            imagesLinks.append(images[i].get_attribute(\"src\"))"
   ]
  },
  {
   "cell_type": "code",
   "execution_count": 240,
   "id": "20f7c585",
   "metadata": {},
   "outputs": [
    {
     "name": "stdout",
     "output_type": "stream",
     "text": [
      "Liczba ogłoszeń: 27\n"
     ]
    }
   ],
   "source": [
    "#TO TWOŻY LISTĘ LINKÓW \"links\".\n",
    "posts = driver.find_elements_by_css_selector(\"a[data-cy='listing-item-link']\")\n",
    "links = []\n",
    "#print(\"To jest lista ogłoszeń:\")\n",
    "for post in posts:\n",
    "    links.append(post.get_attribute(\"href\"))\n",
    "    #print(links[posts.index(post)])#To jest tylko do wypisywania linków. Można usunąć.\n",
    "print(\"Liczba ogłoszeń: \" + str(len(links)))"
   ]
  },
  {
   "cell_type": "code",
   "execution_count": 241,
   "id": "5ee9b327",
   "metadata": {},
   "outputs": [
    {
     "name": "stdout",
     "output_type": "stream",
     "text": [
      "Nie stworzono folderu o nazwie: '0' w: ./scraped\\0\n"
     ]
    }
   ],
   "source": [
    "#!!!!!!!!!!!!!!!!!!!!!!!!!!!!!!!!!!!DODAĆ ITERACJĘ NA KAŻDY LINK!!!!!!!!!!!!!!!!!!!!!!!!!!!!!!!!!!!!!!!!!!!!!!!!!!!!!!!!!!!!!!!!\n",
    "create_folder_in_given_directory(\"./scraped\", \"0\")#ZROBIĆ ITERACJĘ Z TYM ZEREM\n",
    "#!!!!!!!!!!!!!!!!!!!!!!!!!!!!!!!!!!!DODAĆ ITERACJĘ NA KAŻDY LINK!!!!!!!!!!!!!!!!!!!!!!!!!!!!!!!!!!!!!!!!!!!!!!!!!!!!!!!!!!!!!!!!\n",
    "directory = \"./scraped/\" + \"0\" + \"/\"#ZAMIAST ZERA TUTAJ DAĆ TEN ITERATOR STR(I)"
   ]
  },
  {
   "cell_type": "code",
   "execution_count": 242,
   "id": "c81d9833",
   "metadata": {},
   "outputs": [],
   "source": [
    "data = []#TU BĘDĄ WSZYSTKIE PARAMETRY MIESZKANIA\n",
    "#!!!!!!!!!!!!!!!!!!!!!!!!!!!!!!!!!!!DODAĆ ITERACJĘ NA KAŻDY LINK!!!!!!!!!!!!!!!!!!!!!!!!!!!!!!!!!!!!!!!!!!!!!!!!!!!!!!!!!!!!!!!!\n",
    "driver.get(links[0])#WEJŚĆ NA STRONĘ"
   ]
  },
  {
   "cell_type": "code",
   "execution_count": 243,
   "id": "2fd2842d",
   "metadata": {},
   "outputs": [],
   "source": [
    "cena = driver.find_element_by_css_selector(\"strong[aria-label='Cena']\")\n",
    "cenaMetra = driver.find_element_by_css_selector(\"div[aria-label='Cena za metr kwadratowy']\")\n",
    "title = driver.find_element_by_tag_name(\"h1\")\n",
    "data.append(\"Tytuł:\")\n",
    "data.append(title.text)\n",
    "data.append(\"Cena:\")\n",
    "data.append(cena.text)\n",
    "data.append(\"Cena za metr kwadratowy:\")\n",
    "data.append(cenaMetra.text[:-1])"
   ]
  },
  {
   "cell_type": "code",
   "execution_count": 244,
   "id": "d0f265bb",
   "metadata": {},
   "outputs": [
    {
     "name": "stdout",
     "output_type": "stream",
     "text": [
      "['Tytuł:', '75m2 + ogródek 225m2 ul. Celulozy KLUCZE 12.2021', 'Cena:', '719 000 zł', 'Cena za metr kwadratowy:', '9 587 zł/m', 'Powierzchnia:', '75 m', 'Liczba pokoi:', '4', 'Rynek:', 'pierwotny', 'Rodzaj zabudowy:', 'dom wolnostojący', 'Liczba pięter:', '1', 'Materiał budynku:', 'cegła', 'Okna:', 'plastikowe', 'Rok budowy:', '2021', 'Stan wykończenia:', 'do wykończenia', 'Forma własności:', 'pełna własność']\n"
     ]
    }
   ],
   "source": [
    "table = driver.find_element_by_class_name(\"egzohkh2\")#ZNAJDUJE TABELEKĘ ZE SZCZEGÓŁAMI\n",
    "fields = table.find_elements_by_xpath(\".//*\")#ZNAJDUJE WSZYSTKIE ELEMENTY W TABELCE\n",
    "for field in fields:\n",
    "    teksty = field.find_elements_by_xpath(\".//*\");#ZEBRAĆ WSZYSTKIE JEJ ELEMENTY (TYTUŁ I WARTOŚĆ, ZDJĘCIE Z JAKIEGOŚ POWODU SIE NIE ZNAJDUJE)\n",
    "    if (fields.index(field)!=0):#METRY KWADRATOWE WYWALAŁY BŁĄD, WIĘC POWIERZCHNIA JEST OSOBNO\n",
    "        if(len(teksty)==2):\n",
    "            data.append(teksty[0].text)\n",
    "            data.append(teksty[1].text)\n",
    "    else:#TO JEST POWIERZCHNIA\n",
    "        if(len(teksty)==2):\n",
    "            data.append(teksty[0].text)#WPISUJE WARTOŚCI DO TABLICY, Z KTÓREJ PÓŹNIEJ BĘDZIE WPISYWANE DO PLIKU\n",
    "            temp = teksty[1].text\n",
    "            temp = temp[:-1]\n",
    "            data.append(temp)\n",
    "print (data)"
   ]
  },
  {
   "cell_type": "code",
   "execution_count": 245,
   "id": "42c02e84",
   "metadata": {},
   "outputs": [],
   "source": [
    "with open(directory+'dane.csv', 'w', newline='') as csvfile:#OTWIERA DANE.CSV I USUWA WSZYSTKO CO W NICH BYŁO JEŻELI COŚ BYŁO\n",
    "    pisacz = csv.writer(csvfile, delimiter=';')#POTRZEBNE DLA BIBLIOTEKI CSV\n",
    "    j = 0\n",
    "    i = 0\n",
    "    if (len(data) > 2):\n",
    "        for i in range(0, (int(len(data)/2))):\n",
    "            try:\n",
    "                pisacz.writerow([data[j],data[j+1]])#PISZE PO DWIE KOMÓRKI Z DANYCH NA WIERSZ\n",
    "                j+=2\n",
    "            except:\n",
    "                print(\"Nie udało się coś\")\n",
    "    else:\n",
    "        print(\"Za mało danych\")"
   ]
  },
  {
   "cell_type": "code",
   "execution_count": 246,
   "id": "3b389cb4",
   "metadata": {},
   "outputs": [],
   "source": [
    "#NIE TYLKO DODATKOWE INFORMACJE MAJĄ TĄ SAMĄ DLASĘ, ALE JAKIEŚ RZECZY TYPU WYPOSARZENIE, ALBO ZABEZPIECZENIA\n",
    "infDodatkowe = driver.find_elements_by_class_name(\"ex3yvbv1\")#LOKALIZUJE DODATKOWE INFORMACJE\n",
    "listaTekstow = [\"Informacje dodatkowe:\"]\n",
    "link = [\"Link:\"]\n",
    "#!!!!!!!!!!!!!!!!!!!!!!!!!!!!!!!!!!!DODAĆ ITERACJĘ NA KAŻDY LINK!!!!!!!!!!!!!!!!!!!!!!!!!!!!!!!!!!!!!!!!!!!!!!!!!!!!!!!!!!!!!!!!\n",
    "link.append(links[0])\n",
    "for i in range(len(infDodatkowe)):\n",
    "    listaTekstow.append(infDodatkowe[i].text)\n",
    "with open(directory+'dane.csv', 'a', newline='') as csvfile:\n",
    "    pisacz = csv.writer(csvfile, delimiter=';')\n",
    "    pisacz.writerow(listaTekstow)"
   ]
  },
  {
   "cell_type": "code",
   "execution_count": 247,
   "id": "b1fcdfed",
   "metadata": {},
   "outputs": [],
   "source": [
    "opis = driver.find_element_by_css_selector('div[data-cy=\"adPageAdDescription\"]')#ZNAJDUJE OPIS, PO JEGO DATA-CY\n",
    "teksty = opis.find_elements_by_tag_name(\"p\");#ZNAJDUJE WSZYSTKIE DZIECI OPISU\n",
    "txtf = open(directory+\"desription.txt\", \"w\")#TWORZY PLIK TEKSTOWY\n",
    "for i in range(len(teksty)):\n",
    "    txtf.write(teksty[i].text + \"\\n\")#ZAPISUJE WSZYSTKIE LINIJKI OPISU PO KOLEI \n",
    "txtf.close()#ZAMYKA PLIK"
   ]
  },
  {
   "cell_type": "code",
   "execution_count": 251,
   "id": "44fda3ed",
   "metadata": {},
   "outputs": [
    {
     "ename": "IndentationError",
     "evalue": "expected an indented block (Temp/ipykernel_13484/3289228662.py, line 7)",
     "output_type": "error",
     "traceback": [
      "\u001b[1;36m  File \u001b[1;32m\"C:\\Users\\PC\\AppData\\Local\\Temp/ipykernel_13484/3289228662.py\"\u001b[1;36m, line \u001b[1;32m7\u001b[0m\n\u001b[1;33m    liczbaZdjec = int(driver.find_element_by_class_name(\"image-gallery-index-total\").text)\u001b[0m\n\u001b[1;37m    ^\u001b[0m\n\u001b[1;31mIndentationError\u001b[0m\u001b[1;31m:\u001b[0m expected an indented block\n"
     ]
    }
   ],
   "source": [
    "guzikNext = driver.find_element_by_css_selector(\"button[data-cy='ad-media-gallery.next-photo']\")\n",
    "try:  \n",
    "    guzikCookies = driver.find_element_by_id(\"onetrust-accept-btn-handler\")\n",
    "    guzikCookies.click()\n",
    "except:\n",
    "    print(\"Nie pominięto\n",
    "liczbaZdjec = int(driver.find_element_by_class_name(\"image-gallery-index-total\").text)\n",
    "zdjecie = driver.find_element_by_class_name(\"image-gallery-slides\")\n",
    "imagesLinks = []\n",
    "for i in range(liczbaZdjec):\n",
    "    guzikNext.click()\n",
    "    time.sleep(1)\n",
    "    append_list_of_links_of_images(imagesLinks, zdjecie)\n",
    "print (imagesLinks)\n"
   ]
  },
  {
   "cell_type": "code",
   "execution_count": 218,
   "id": "80b0aecc",
   "metadata": {},
   "outputs": [
    {
     "name": "stdout",
     "output_type": "stream",
     "text": [
      "7\n"
     ]
    }
   ],
   "source": [
    "print(len(imagesLinks))\n",
    "create_folder_in_given_directory(directory, \"zdjecia\")\n",
    "for i in renage(len(imagesLinks)):\n",
    "    nazwaPliku = \"photo\" + str(i)+\".png\"\n",
    "    path = os.path.join(directory, \"zdjecia\", nazwaPliku)\n",
    "    with open(path, 'wb') as file:\n",
    "        zdjecie = driver.get_element_by_tag_name(\"img\")\n",
    "        file.write(zdjecie.screenshot_as_png)"
   ]
  },
  {
   "cell_type": "code",
   "execution_count": 221,
   "id": "5bc1b805",
   "metadata": {},
   "outputs": [
    {
     "name": "stdout",
     "output_type": "stream",
     "text": [
      "./scraped/0/zdjecia\\photo6.png\n"
     ]
    }
   ],
   "source": [
    "nazwaPliku = \"photo\" + str(i)+\".png\"\n",
    "create_folder_in_given_directory(directory, \"zdjecia\")\n",
    "path = os.path.join(directory, \"zdjecia\", nazwaPliku)\n",
    "print(path)"
   ]
  },
  {
   "cell_type": "code",
   "execution_count": null,
   "id": "bceb94fb",
   "metadata": {},
   "outputs": [],
   "source": []
  }
 ],
 "metadata": {
  "kernelspec": {
   "display_name": "Python 3 (ipykernel)",
   "language": "python",
   "name": "python3"
  },
  "language_info": {
   "codemirror_mode": {
    "name": "ipython",
    "version": 3
   },
   "file_extension": ".py",
   "mimetype": "text/x-python",
   "name": "python",
   "nbconvert_exporter": "python",
   "pygments_lexer": "ipython3",
   "version": "3.9.6"
  }
 },
 "nbformat": 4,
 "nbformat_minor": 5
}
