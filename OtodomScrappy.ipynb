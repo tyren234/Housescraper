{
 "cells": [
  {
   "cell_type": "code",
   "execution_count": null,
   "id": "898827cb",
   "metadata": {},
   "outputs": [],
   "source": [
    "from selenium import webdriver\n",
    "from selenium.webdriver.common.action_chains import ActionChains\n",
    "from selenium.webdriver.common.by import By\n",
    "import time\n",
    "\n",
    "import os #MAKDIR & DELETING FILES\n",
    "import csv #COMMA SEPARATED VALUES LIBRARY"
   ]
  },
  {
   "cell_type": "code",
   "execution_count": null,
   "id": "c1876f6e",
   "metadata": {},
   "outputs": [],
   "source": [
    "#TO WŁĄCZA STRONĘ\n",
    "PATH = r\"C:\\Users\\PC\\1st\\chromedriver.exe\"\n",
    "driver = webdriver.Chrome(PATH)\n",
    "driver.get(\"https://www.otodom.pl/pl/oferty/sprzedaz/mieszkanie/mazowieckie\")"
   ]
  },
  {
   "cell_type": "code",
   "execution_count": null,
   "id": "59fd584d",
   "metadata": {},
   "outputs": [],
   "source": [
    "def create_folder_in_current_directory(folderName):#FOLDER NAME TO STRING - MA BYĆ W CUDZYSŁOWIE\n",
    "    try:\n",
    "        os.mkdir(folderName)\n",
    "    except:\n",
    "        print(\"Nie stworzono folderu o nazwie: '\" + folderName+\"'\")\n",
    "        \n",
    "#DIRECTORY MA BYĆ Z UKOŚNIKAMI \"/\", A NIE \"\\\"!!! POZA TYM OBA ARGUMENTY W CUDZYSŁOWACH\n",
    "def create_folder_in_given_directory(directory, folderName):\n",
    "    path = os.path.join(directory, folderName)\n",
    "    try:\n",
    "        os.mkdir(path)\n",
    "    except:\n",
    "        print(\"Nie stworzono folderu o nazwie: '\" + folderName+\"' w: \" + path)\n",
    "        \n",
    "def append_list_of_links_of_images(list, object):#object holds img elements within itself\n",
    "    images = object.find_elements_by_class_name(\"image-gallery-image\")\n",
    "    for i in range(len(images)):\n",
    "        if(images[i].get_attribute(\"src\") in imagesLinks):\n",
    "            continue\n",
    "        else:\n",
    "            imagesLinks.append(images[i].get_attribute(\"src\"))"
   ]
  },
  {
   "cell_type": "code",
   "execution_count": null,
   "id": "20f7c585",
   "metadata": {},
   "outputs": [],
   "source": [
    "#TO TWOŻY LISTĘ LINKÓW \"links\".\n",
    "posts = driver.find_elements_by_css_selector(\"a[data-cy='listing-item-link']\")\n",
    "links = []\n",
    "#print(\"To jest lista ogłoszeń:\")\n",
    "for post in posts:\n",
    "    links.append(post.get_attribute(\"href\"))\n",
    "    #print(links[posts.index(post)])#To jest tylko do wypisywania linków. Można usunąć.\n",
    "print(\"Liczba ogłoszeń: \" + str(len(links)))"
   ]
  },
  {
   "cell_type": "code",
   "execution_count": null,
   "id": "461befb9",
   "metadata": {},
   "outputs": [],
   "source": [
    "#!!!!!!!!!!!!!!!!!!!!!!!!!!!!!!!!!!!DODAĆ ITERACJĘ NA KAŻDY LINK!!!!!!!!!!!!!!!!!!!!!!!!!!!!!!!!!!!!!!!!!!!!!!!!!!!!!!!!!!!!!!!!\n",
    "create_folder_in_given_directory(\"./scraped\", \"0\")#ZROBIĆ ITERACJĘ Z TYM ZEREM\n",
    "#!!!!!!!!!!!!!!!!!!!!!!!!!!!!!!!!!!!DODAĆ ITERACJĘ NA KAŻDY LINK!!!!!!!!!!!!!!!!!!!!!!!!!!!!!!!!!!!!!!!!!!!!!!!!!!!!!!!!!!!!!!!!\n",
    "directory = \"./scraped/\" + \"0\" + \"/\"#ZAMIAST ZERA TUTAJ DAĆ TEN ITERATOR STR(I)"
   ]
  },
  {
   "cell_type": "code",
   "execution_count": 236,
   "id": "c81d9833",
   "metadata": {},
   "outputs": [
    {
     "ename": "WebDriverException",
     "evalue": "Message: chrome not reachable\n  (Session info: chrome=94.0.4606.61)\n",
     "output_type": "error",
     "traceback": [
      "\u001b[1;31m---------------------------------------------------------------------------\u001b[0m",
      "\u001b[1;31mWebDriverException\u001b[0m                        Traceback (most recent call last)",
      "\u001b[1;32m~\\AppData\\Local\\Temp/ipykernel_13484/2656827272.py\u001b[0m in \u001b[0;36m<module>\u001b[1;34m\u001b[0m\n\u001b[0;32m      1\u001b[0m \u001b[0mdata\u001b[0m \u001b[1;33m=\u001b[0m \u001b[1;33m[\u001b[0m\u001b[1;33m]\u001b[0m\u001b[1;31m#TU BĘDĄ WSZYSTKIE PARAMETRY MIESZKANIA\u001b[0m\u001b[1;33m\u001b[0m\u001b[1;33m\u001b[0m\u001b[0m\n\u001b[0;32m      2\u001b[0m \u001b[1;31m#!!!!!!!!!!!!!!!!!!!!!!!!!!!!!!!!!!!DODAĆ ITERACJĘ NA KAŻDY LINK!!!!!!!!!!!!!!!!!!!!!!!!!!!!!!!!!!!!!!!!!!!!!!!!!!!!!!!!!!!!!!!!\u001b[0m\u001b[1;33m\u001b[0m\u001b[1;33m\u001b[0m\u001b[1;33m\u001b[0m\u001b[0m\n\u001b[1;32m----> 3\u001b[1;33m \u001b[0mdriver\u001b[0m\u001b[1;33m.\u001b[0m\u001b[0mget\u001b[0m\u001b[1;33m(\u001b[0m\u001b[0mlinks\u001b[0m\u001b[1;33m[\u001b[0m\u001b[1;36m0\u001b[0m\u001b[1;33m]\u001b[0m\u001b[1;33m)\u001b[0m\u001b[1;31m#WEJŚĆ NA STRONĘ\u001b[0m\u001b[1;33m\u001b[0m\u001b[1;33m\u001b[0m\u001b[0m\n\u001b[0m",
      "\u001b[1;32m~\\AppData\\Local\\Programs\\Python\\Python39\\lib\\site-packages\\selenium\\webdriver\\remote\\webdriver.py\u001b[0m in \u001b[0;36mget\u001b[1;34m(self, url)\u001b[0m\n\u001b[0;32m    331\u001b[0m         \u001b[0mLoads\u001b[0m \u001b[0ma\u001b[0m \u001b[0mweb\u001b[0m \u001b[0mpage\u001b[0m \u001b[1;32min\u001b[0m \u001b[0mthe\u001b[0m \u001b[0mcurrent\u001b[0m \u001b[0mbrowser\u001b[0m \u001b[0msession\u001b[0m\u001b[1;33m.\u001b[0m\u001b[1;33m\u001b[0m\u001b[1;33m\u001b[0m\u001b[0m\n\u001b[0;32m    332\u001b[0m         \"\"\"\n\u001b[1;32m--> 333\u001b[1;33m         \u001b[0mself\u001b[0m\u001b[1;33m.\u001b[0m\u001b[0mexecute\u001b[0m\u001b[1;33m(\u001b[0m\u001b[0mCommand\u001b[0m\u001b[1;33m.\u001b[0m\u001b[0mGET\u001b[0m\u001b[1;33m,\u001b[0m \u001b[1;33m{\u001b[0m\u001b[1;34m'url'\u001b[0m\u001b[1;33m:\u001b[0m \u001b[0murl\u001b[0m\u001b[1;33m}\u001b[0m\u001b[1;33m)\u001b[0m\u001b[1;33m\u001b[0m\u001b[1;33m\u001b[0m\u001b[0m\n\u001b[0m\u001b[0;32m    334\u001b[0m \u001b[1;33m\u001b[0m\u001b[0m\n\u001b[0;32m    335\u001b[0m     \u001b[1;33m@\u001b[0m\u001b[0mproperty\u001b[0m\u001b[1;33m\u001b[0m\u001b[1;33m\u001b[0m\u001b[0m\n",
      "\u001b[1;32m~\\AppData\\Local\\Programs\\Python\\Python39\\lib\\site-packages\\selenium\\webdriver\\remote\\webdriver.py\u001b[0m in \u001b[0;36mexecute\u001b[1;34m(self, driver_command, params)\u001b[0m\n\u001b[0;32m    319\u001b[0m         \u001b[0mresponse\u001b[0m \u001b[1;33m=\u001b[0m \u001b[0mself\u001b[0m\u001b[1;33m.\u001b[0m\u001b[0mcommand_executor\u001b[0m\u001b[1;33m.\u001b[0m\u001b[0mexecute\u001b[0m\u001b[1;33m(\u001b[0m\u001b[0mdriver_command\u001b[0m\u001b[1;33m,\u001b[0m \u001b[0mparams\u001b[0m\u001b[1;33m)\u001b[0m\u001b[1;33m\u001b[0m\u001b[1;33m\u001b[0m\u001b[0m\n\u001b[0;32m    320\u001b[0m         \u001b[1;32mif\u001b[0m \u001b[0mresponse\u001b[0m\u001b[1;33m:\u001b[0m\u001b[1;33m\u001b[0m\u001b[1;33m\u001b[0m\u001b[0m\n\u001b[1;32m--> 321\u001b[1;33m             \u001b[0mself\u001b[0m\u001b[1;33m.\u001b[0m\u001b[0merror_handler\u001b[0m\u001b[1;33m.\u001b[0m\u001b[0mcheck_response\u001b[0m\u001b[1;33m(\u001b[0m\u001b[0mresponse\u001b[0m\u001b[1;33m)\u001b[0m\u001b[1;33m\u001b[0m\u001b[1;33m\u001b[0m\u001b[0m\n\u001b[0m\u001b[0;32m    322\u001b[0m             response['value'] = self._unwrap_value(\n\u001b[0;32m    323\u001b[0m                 response.get('value', None))\n",
      "\u001b[1;32m~\\AppData\\Local\\Programs\\Python\\Python39\\lib\\site-packages\\selenium\\webdriver\\remote\\errorhandler.py\u001b[0m in \u001b[0;36mcheck_response\u001b[1;34m(self, response)\u001b[0m\n\u001b[0;32m    240\u001b[0m                 \u001b[0malert_text\u001b[0m \u001b[1;33m=\u001b[0m \u001b[0mvalue\u001b[0m\u001b[1;33m[\u001b[0m\u001b[1;34m'alert'\u001b[0m\u001b[1;33m]\u001b[0m\u001b[1;33m.\u001b[0m\u001b[0mget\u001b[0m\u001b[1;33m(\u001b[0m\u001b[1;34m'text'\u001b[0m\u001b[1;33m)\u001b[0m\u001b[1;33m\u001b[0m\u001b[1;33m\u001b[0m\u001b[0m\n\u001b[0;32m    241\u001b[0m             \u001b[1;32mraise\u001b[0m \u001b[0mexception_class\u001b[0m\u001b[1;33m(\u001b[0m\u001b[0mmessage\u001b[0m\u001b[1;33m,\u001b[0m \u001b[0mscreen\u001b[0m\u001b[1;33m,\u001b[0m \u001b[0mstacktrace\u001b[0m\u001b[1;33m,\u001b[0m \u001b[0malert_text\u001b[0m\u001b[1;33m)\u001b[0m\u001b[1;33m\u001b[0m\u001b[1;33m\u001b[0m\u001b[0m\n\u001b[1;32m--> 242\u001b[1;33m         \u001b[1;32mraise\u001b[0m \u001b[0mexception_class\u001b[0m\u001b[1;33m(\u001b[0m\u001b[0mmessage\u001b[0m\u001b[1;33m,\u001b[0m \u001b[0mscreen\u001b[0m\u001b[1;33m,\u001b[0m \u001b[0mstacktrace\u001b[0m\u001b[1;33m)\u001b[0m\u001b[1;33m\u001b[0m\u001b[1;33m\u001b[0m\u001b[0m\n\u001b[0m\u001b[0;32m    243\u001b[0m \u001b[1;33m\u001b[0m\u001b[0m\n\u001b[0;32m    244\u001b[0m     \u001b[1;32mdef\u001b[0m \u001b[0m_value_or_default\u001b[0m\u001b[1;33m(\u001b[0m\u001b[0mself\u001b[0m\u001b[1;33m,\u001b[0m \u001b[0mobj\u001b[0m\u001b[1;33m,\u001b[0m \u001b[0mkey\u001b[0m\u001b[1;33m,\u001b[0m \u001b[0mdefault\u001b[0m\u001b[1;33m)\u001b[0m\u001b[1;33m:\u001b[0m\u001b[1;33m\u001b[0m\u001b[1;33m\u001b[0m\u001b[0m\n",
      "\u001b[1;31mWebDriverException\u001b[0m: Message: chrome not reachable\n  (Session info: chrome=94.0.4606.61)\n"
     ]
    }
   ],
   "source": [
    "data = []#TU BĘDĄ WSZYSTKIE PARAMETRY MIESZKANIA\n",
    "#!!!!!!!!!!!!!!!!!!!!!!!!!!!!!!!!!!!DODAĆ ITERACJĘ NA KAŻDY LINK!!!!!!!!!!!!!!!!!!!!!!!!!!!!!!!!!!!!!!!!!!!!!!!!!!!!!!!!!!!!!!!!\n",
    "driver.get(links[0])#WEJŚĆ NA STRONĘ"
   ]
  },
  {
   "cell_type": "code",
   "execution_count": null,
   "id": "a7b5a1af",
   "metadata": {},
   "outputs": [],
   "source": [
    "cena = driver.find_element_by_css_selector(\"strong[aria-label='Cena']\")\n",
    "cenaMetra = driver.find_element_by_css_selector(\"div[aria-label='Cena za metr kwadratowy']\")\n",
    "title = driver.find_element_by_tag_name(\"h1\")\n",
    "data.append(\"Tytuł:\")\n",
    "data.append(title.text)\n",
    "data.append(\"Cena:\")\n",
    "data.append(cena.text)\n",
    "data.append(\"Cena za metr kwadratowy:\")\n",
    "data.append(cenaMetra.text[:-1])"
   ]
  },
  {
   "cell_type": "code",
   "execution_count": null,
   "id": "d0f265bb",
   "metadata": {},
   "outputs": [],
   "source": [
    "table = driver.find_element_by_class_name(\"egzohkh2\")#ZNAJDUJE TABELEKĘ ZE SZCZEGÓŁAMI\n",
    "fields = table.find_elements_by_xpath(\".//*\")#ZNAJDUJE WSZYSTKIE ELEMENTY W TABELCE\n",
    "for field in fields:\n",
    "    teksty = field.find_elements_by_xpath(\".//*\");#ZEBRAĆ WSZYSTKIE JEJ ELEMENTY (TYTUŁ I WARTOŚĆ, ZDJĘCIE Z JAKIEGOŚ POWODU SIE NIE ZNAJDUJE)\n",
    "    if (fields.index(field)!=0):#METRY KWADRATOWE WYWALAŁY BŁĄD, WIĘC POWIERZCHNIA JEST OSOBNO\n",
    "        if(len(teksty)==2):\n",
    "            data.append(teksty[0].text)\n",
    "            data.append(teksty[1].text)\n",
    "    else:#TO JEST POWIERZCHNIA\n",
    "        if(len(teksty)==2):\n",
    "            data.append(teksty[0].text)#WPISUJE WARTOŚCI DO TABLICY, Z KTÓREJ PÓŹNIEJ BĘDZIE WPISYWANE DO PLIKU\n",
    "            temp = teksty[1].text\n",
    "            temp = temp[:-1]\n",
    "            data.append(temp)\n",
    "print (data)"
   ]
  },
  {
   "cell_type": "code",
   "execution_count": null,
   "id": "42c02e84",
   "metadata": {},
   "outputs": [],
   "source": [
    "with open(directory+'dane.csv', 'w', newline='') as csvfile:#OTWIERA DANE.CSV I USUWA WSZYSTKO CO W NICH BYŁO JEŻELI COŚ BYŁO\n",
    "    pisacz = csv.writer(csvfile, delimiter=';')#POTRZEBNE DLA BIBLIOTEKI CSV\n",
    "    j = 0\n",
    "    i = 0\n",
    "    if (len(data) > 2):\n",
    "        for i in range(0, (int(len(data)/2))):\n",
    "            try:\n",
    "                pisacz.writerow([data[j],data[j+1]])#PISZE PO DWIE KOMÓRKI Z DANYCH NA WIERSZ\n",
    "                j+=2\n",
    "            except:\n",
    "                print(\"Nie udało się coś\")\n",
    "    else:\n",
    "        print(\"Za mało danych\")"
   ]
  },
  {
   "cell_type": "code",
   "execution_count": null,
   "id": "8e9d00e4",
   "metadata": {},
   "outputs": [],
   "source": [
    "#NIE TYLKO DODATKOWE INFORMACJE MAJĄ TĄ SAMĄ DLASĘ, ALE JAKIEŚ RZECZY TYPU WYPOSARZENIE, ALBO ZABEZPIECZENIA\n",
    "infDodatkowe = driver.find_elements_by_class_name(\"ex3yvbv1\")#LOKALIZUJE DODATKOWE INFORMACJE\n",
    "listaTekstow = [\"Informacje dodatkowe:\"]\n",
    "link = [\"Link:\"]\n",
    "#!!!!!!!!!!!!!!!!!!!!!!!!!!!!!!!!!!!DODAĆ ITERACJĘ NA KAŻDY LINK!!!!!!!!!!!!!!!!!!!!!!!!!!!!!!!!!!!!!!!!!!!!!!!!!!!!!!!!!!!!!!!!\n",
    "link.append(links[0])\n",
    "for i in range(len(infDodatkowe)):\n",
    "    listaTekstow.append(infDodatkowe[i].text)\n",
    "with open(directory+'dane.csv', 'a', newline='') as csvfile:\n",
    "    pisacz = csv.writer(csvfile, delimiter=';')\n",
    "    pisacz.writerow(listaTekstow)"
   ]
  },
  {
   "cell_type": "code",
   "execution_count": null,
   "id": "b1fcdfed",
   "metadata": {},
   "outputs": [],
   "source": [
    "opis = driver.find_element_by_css_selector('div[data-cy=\"adPageAdDescription\"]')#ZNAJDUJE OPIS, PO JEGO DATA-CY\n",
    "teksty = opis.find_elements_by_tag_name(\"p\");#ZNAJDUJE WSZYSTKIE DZIECI OPISU\n",
    "txtf = open(directory+\"desription.txt\", \"w\")#TWORZY PLIK TEKSTOWY\n",
    "for i in range(len(teksty)):\n",
    "    txtf.write(teksty[i].text + \"\\n\")#ZAPISUJE WSZYSTKIE LINIJKI OPISU PO KOLEI \n",
    "txtf.close()#ZAMYKA PLIK"
   ]
  },
  {
   "cell_type": "code",
   "execution_count": null,
   "id": "b148b72d",
   "metadata": {},
   "outputs": [],
   "source": [
    "guzikNext = driver.find_element_by_css_selector(\"button[data-cy='ad-media-gallery.next-photo']\")\n",
    "guzikCookies = driver.find_element_by_id(\"onetrust-accept-btn-handler\")\n",
    "guzikCookies.click()\n",
    "liczbaZdjec = int(driver.find_element_by_class_name(\"image-gallery-index-total\").text)\n",
    "zdjecie = driver.find_element_by_class_name(\"image-gallery-slides\")\n",
    "imagesLinks = []\n",
    "for i in range(liczbaZdjec):\n",
    "    guzikNext.click()\n",
    "    time.sleep(1)\n",
    "    append_list_of_links_of_images(imagesLinks, zdjecie)\n",
    "print (imagesLinks)\n"
   ]
  },
  {
   "cell_type": "code",
   "execution_count": 218,
   "id": "0ba68556",
   "metadata": {},
   "outputs": [
    {
     "name": "stdout",
     "output_type": "stream",
     "text": [
      "7\n"
     ]
    }
   ],
   "source": [
    "print(len(imagesLinks))\n",
    "create_folder_in_given_directory(directory, \"zdjecia\")\n",
    "for i in renage(len(imagesLinks)):\n",
    "    nazwaPliku = \"photo\" + str(i)+\".png\"\n",
    "    path = os.path.join(directory, \"zdjecia\", nazwaPliku)\n",
    "    with open(path, 'wb') as file:\n",
    "        zdjecie = driver.get_element_by_tag_name(\"img\")\n",
    "        file.write(zdjecie.screenshot_as_png)"
   ]
  },
  {
   "cell_type": "code",
   "execution_count": 221,
   "id": "0fe47331",
   "metadata": {},
   "outputs": [
    {
     "name": "stdout",
     "output_type": "stream",
     "text": [
      "./scraped/0/zdjecia\\photo6.png\n"
     ]
    }
   ],
   "source": [
    "nazwaPliku = \"photo\" + str(i)+\".png\"\n",
    "create_folder_in_given_directory(directory, \"zdjecia\")\n",
    "path = os.path.join(directory, \"zdjecia\", nazwaPliku)\n",
    "print(path)"
   ]
  },
  {
   "cell_type": "code",
   "execution_count": null,
   "id": "26d6b389",
   "metadata": {},
   "outputs": [],
   "source": []
  }
 ],
 "metadata": {
  "kernelspec": {
   "display_name": "Python 3 (ipykernel)",
   "language": "python",
   "name": "python3"
  },
  "language_info": {
   "codemirror_mode": {
    "name": "ipython",
    "version": 3
   },
   "file_extension": ".py",
   "mimetype": "text/x-python",
   "name": "python",
   "nbconvert_exporter": "python",
   "pygments_lexer": "ipython3",
   "version": "3.9.6"
  }
 },
 "nbformat": 4,
 "nbformat_minor": 5
}
