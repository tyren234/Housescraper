{
 "cells": [
  {
   "cell_type": "code",
   "execution_count": 1,
   "id": "898827cb",
   "metadata": {},
   "outputs": [],
   "source": [
    "from selenium import webdriver\n",
    "from selenium.webdriver.common.action_chains import ActionChains\n",
    "from selenium.webdriver.common.by import By\n",
    "import time\n",
    "\n",
    "import os #MAKDIR & DELETING FILES\n",
    "import csv #COMMA SEPARATED VALUES LIBRARY\n",
    "import requests #DOWNLOADING IMAGES"
   ]
  },
  {
   "cell_type": "code",
   "execution_count": 2,
   "id": "c1876f6e",
   "metadata": {},
   "outputs": [],
   "source": [
    "#TO WŁĄCZA STRONĘ\n",
    "PATH = r\"C:\\Users\\PC\\1st\\chromedriver.exe\"\n",
    "driver = webdriver.Chrome(PATH)\n",
    "driver.get(\"https://www.otodom.pl/pl/oferty/sprzedaz/mieszkanie/mazowieckie\")"
   ]
  },
  {
   "cell_type": "code",
   "execution_count": 3,
   "id": "59fd584d",
   "metadata": {},
   "outputs": [],
   "source": [
    "def create_folder_in_current_directory(folderName):#FOLDER NAME TO STRING - MA BYĆ W CUDZYSŁOWIE\n",
    "    try:\n",
    "        os.mkdir(folderName)\n",
    "    except:\n",
    "        print(\"Nie stworzono folderu o nazwie: '\" + folderName+\"'\")\n",
    "        \n",
    "#DIRECTORY MA BYĆ Z UKOŚNIKAMI \"/\", A NIE \"\\\"!!! POZA TYM OBA ARGUMENTY W CUDZYSŁOWACH\n",
    "def create_folder_in_given_directory(directory, folderName):\n",
    "    path = os.path.join(directory, folderName)\n",
    "    try:\n",
    "        os.mkdir(path)\n",
    "    except:\n",
    "        print(\"Nie stworzono folderu o nazwie: '\" + folderName+\"' w: \" + path)\n",
    "        \n",
    "def append_list_of_links_of_images(list, object):#object holds img elements within itself\n",
    "    images = object.find_elements_by_class_name(\"image-gallery-image\")\n",
    "    for i in range(len(images)):\n",
    "        if(images[i].get_attribute(\"src\") in imagesLinks):\n",
    "            continue\n",
    "        else:\n",
    "            imagesLinks.append(images[i].get_attribute(\"src\"))"
   ]
  },
  {
   "cell_type": "code",
   "execution_count": 4,
   "id": "20f7c585",
   "metadata": {},
   "outputs": [
    {
     "name": "stdout",
     "output_type": "stream",
     "text": [
      "Liczba ogłoszeń: 27\n"
     ]
    }
   ],
   "source": [
    "#TO TWOŻY LISTĘ LINKÓW \"links\".\n",
    "posts = driver.find_elements_by_css_selector(\"a[data-cy='listing-item-link']\")\n",
    "links = []\n",
    "#print(\"To jest lista ogłoszeń:\")\n",
    "for post in posts:\n",
    "    links.append(post.get_attribute(\"href\"))\n",
    "    #print(links[posts.index(post)])#To jest tylko do wypisywania linków. Można usunąć.\n",
    "print(\"Liczba ogłoszeń: \" + str(len(links)))"
   ]
  },
  {
   "cell_type": "code",
   "execution_count": 5,
   "id": "5ee9b327",
   "metadata": {},
   "outputs": [
    {
     "name": "stdout",
     "output_type": "stream",
     "text": [
      "Nie stworzono folderu o nazwie: '0' w: ./scraped\\0\n"
     ]
    }
   ],
   "source": [
    "#!!!!!!!!!!!!!!!!!!!!!!!!!!!!!!!!!!!DODAĆ ITERACJĘ NA KAŻDY LINK!!!!!!!!!!!!!!!!!!!!!!!!!!!!!!!!!!!!!!!!!!!!!!!!!!!!!!!!!!!!!!!!\n",
    "create_folder_in_given_directory(\"./scraped\", \"0\")#ZROBIĆ ITERACJĘ Z TYM ZEREM\n",
    "#!!!!!!!!!!!!!!!!!!!!!!!!!!!!!!!!!!!DODAĆ ITERACJĘ NA KAŻDY LINK!!!!!!!!!!!!!!!!!!!!!!!!!!!!!!!!!!!!!!!!!!!!!!!!!!!!!!!!!!!!!!!!\n",
    "directory = \"./scraped/\" + \"0\" + \"/\"#ZAMIAST ZERA TUTAJ DAĆ TEN ITERATOR STR(I)"
   ]
  },
  {
   "cell_type": "code",
   "execution_count": 6,
   "id": "c81d9833",
   "metadata": {},
   "outputs": [],
   "source": [
    "data = []#TU BĘDĄ WSZYSTKIE PARAMETRY MIESZKANIA\n",
    "#!!!!!!!!!!!!!!!!!!!!!!!!!!!!!!!!!!!DODAĆ ITERACJĘ NA KAŻDY LINK!!!!!!!!!!!!!!!!!!!!!!!!!!!!!!!!!!!!!!!!!!!!!!!!!!!!!!!!!!!!!!!!\n",
    "driver.get(links[0])#WEJŚĆ NA STRONĘ"
   ]
  },
  {
   "cell_type": "code",
   "execution_count": 7,
   "id": "2fd2842d",
   "metadata": {},
   "outputs": [],
   "source": [
    "cena = driver.find_element_by_css_selector(\"strong[aria-label='Cena']\")\n",
    "cenaMetra = driver.find_element_by_css_selector(\"div[aria-label='Cena za metr kwadratowy']\")\n",
    "title = driver.find_element_by_tag_name(\"h1\")\n",
    "data.append(\"Tytuł:\")\n",
    "data.append(title.text)\n",
    "data.append(\"Cena:\")\n",
    "data.append(cena.text)\n",
    "data.append(\"Cena za metr kwadratowy:\")\n",
    "data.append(cenaMetra.text[:-1])"
   ]
  },
  {
   "cell_type": "code",
   "execution_count": 8,
   "id": "d0f265bb",
   "metadata": {},
   "outputs": [
    {
     "name": "stdout",
     "output_type": "stream",
     "text": [
      "['Tytuł:', 'Segment z ogródkiem w zacisznej części Legionowa', 'Cena:', '569 000 zł', 'Cena za metr kwadratowy:', '5 693 zł/m', 'Powierzchnia:', '99,95 m', 'Liczba pokoi:', '3', 'Rynek:', 'pierwotny', 'Rodzaj zabudowy:', 'szeregowiec', 'Materiał budynku:', 'beton komórkowy', 'Okna:', 'plastikowe', 'Ogrzewanie:', 'gazowe', 'Rok budowy:', '2022', 'Stan wykończenia:', 'do wykończenia', 'Forma własności:', 'pełna własność']\n"
     ]
    }
   ],
   "source": [
    "table = driver.find_element_by_class_name(\"egzohkh2\")#ZNAJDUJE TABELEKĘ ZE SZCZEGÓŁAMI\n",
    "fields = table.find_elements_by_xpath(\".//*\")#ZNAJDUJE WSZYSTKIE ELEMENTY W TABELCE\n",
    "for field in fields:\n",
    "    teksty = field.find_elements_by_xpath(\".//*\");#ZEBRAĆ WSZYSTKIE JEJ ELEMENTY (TYTUŁ I WARTOŚĆ, ZDJĘCIE Z JAKIEGOŚ POWODU SIE NIE ZNAJDUJE)\n",
    "    if (fields.index(field)!=0):#METRY KWADRATOWE WYWALAŁY BŁĄD, WIĘC POWIERZCHNIA JEST OSOBNO\n",
    "        if(len(teksty)==2):\n",
    "            data.append(teksty[0].text)\n",
    "            data.append(teksty[1].text)\n",
    "    else:#TO JEST POWIERZCHNIA\n",
    "        if(len(teksty)==2):\n",
    "            data.append(teksty[0].text)#WPISUJE WARTOŚCI DO TABLICY, Z KTÓREJ PÓŹNIEJ BĘDZIE WPISYWANE DO PLIKU\n",
    "            temp = teksty[1].text\n",
    "            temp = temp[:-1]\n",
    "            data.append(temp)\n",
    "print (data)"
   ]
  },
  {
   "cell_type": "code",
   "execution_count": 9,
   "id": "42c02e84",
   "metadata": {},
   "outputs": [],
   "source": [
    "with open(directory+'dane.csv', 'w', newline='') as csvfile:#OTWIERA DANE.CSV I USUWA WSZYSTKO CO W NICH BYŁO JEŻELI COŚ BYŁO\n",
    "    pisacz = csv.writer(csvfile, delimiter=';')#POTRZEBNE DLA BIBLIOTEKI CSV\n",
    "    j = 0\n",
    "    i = 0\n",
    "    if (len(data) > 2):\n",
    "        for i in range(0, (int(len(data)/2))):\n",
    "            try:\n",
    "                pisacz.writerow([data[j],data[j+1]])#PISZE PO DWIE KOMÓRKI Z DANYCH NA WIERSZ\n",
    "                j+=2\n",
    "            except:\n",
    "                print(\"Nie udało się coś\")\n",
    "    else:\n",
    "        print(\"Za mało danych\")"
   ]
  },
  {
   "cell_type": "code",
   "execution_count": 10,
   "id": "3b389cb4",
   "metadata": {},
   "outputs": [],
   "source": [
    "#NIE TYLKO DODATKOWE INFORMACJE MAJĄ TĄ SAMĄ DLASĘ, ALE JAKIEŚ RZECZY TYPU WYPOSARZENIE, ALBO ZABEZPIECZENIA\n",
    "infDodatkowe = driver.find_elements_by_class_name(\"ex3yvbv1\")#LOKALIZUJE DODATKOWE INFORMACJE\n",
    "listaTekstow = [\"Informacje dodatkowe:\"]\n",
    "link = [\"Link:\"]\n",
    "#!!!!!!!!!!!!!!!!!!!!!!!!!!!!!!!!!!!DODAĆ ITERACJĘ NA KAŻDY LINK!!!!!!!!!!!!!!!!!!!!!!!!!!!!!!!!!!!!!!!!!!!!!!!!!!!!!!!!!!!!!!!!\n",
    "link.append(links[0])\n",
    "for i in range(len(infDodatkowe)):\n",
    "    listaTekstow.append(infDodatkowe[i].text)\n",
    "with open(directory+'dane.csv', 'a', newline='') as csvfile:\n",
    "    pisacz = csv.writer(csvfile, delimiter=';')\n",
    "    pisacz.writerow(listaTekstow)"
   ]
  },
  {
   "cell_type": "code",
   "execution_count": 11,
   "id": "b1fcdfed",
   "metadata": {},
   "outputs": [],
   "source": [
    "opis = driver.find_element_by_css_selector('div[data-cy=\"adPageAdDescription\"]')#ZNAJDUJE OPIS, PO JEGO DATA-CY\n",
    "teksty = opis.find_elements_by_tag_name(\"p\");#ZNAJDUJE WSZYSTKIE DZIECI OPISU\n",
    "txtf = open(directory+\"desription.txt\", \"w\")#TWORZY PLIK TEKSTOWY\n",
    "for i in range(len(teksty)):\n",
    "    txtf.write(teksty[i].text + \"\\n\")#ZAPISUJE WSZYSTKIE LINIJKI OPISU PO KOLEI \n",
    "txtf.close()#ZAMYKA PLIK"
   ]
  },
  {
   "cell_type": "code",
   "execution_count": 12,
   "id": "44fda3ed",
   "metadata": {},
   "outputs": [
    {
     "name": "stdout",
     "output_type": "stream",
     "text": [
      "['https://ireland.apollo.olxcdn.com/v1/files/eyJmbiI6ImNwemtxMHlnMHZsdy1BUEwiLCJ3IjpbeyJmbiI6ImVudmZxcWUxYXk0azEtQVBMIiwicyI6IjE0IiwicCI6IjEwLC0xMCIsImEiOiIwIn1dfQ.vK6-SWAnkjuRV5mMijzCFbvUxHmWgoREV7TMyGoVqHw/image;s=1280x1024;q=80', 'https://ireland.apollo.olxcdn.com/v1/files/eyJmbiI6IjA4cTFkYmxkam1zNzEtQVBMIiwidyI6W3siZm4iOiJlbnZmcXFlMWF5NGsxLUFQTCIsInMiOiIxNCIsInAiOiIxMCwtMTAiLCJhIjoiMCJ9XX0.Wvd6QdB4zFu1CtM-290x1P4vwRBIK1zRqaUdrkJXOUI/image;s=1280x1024;q=80', 'https://ireland.apollo.olxcdn.com/v1/files/eyJmbiI6ImYwNWY3dGlyYzhmdjItQVBMIiwidyI6W3siZm4iOiJlbnZmcXFlMWF5NGsxLUFQTCIsInMiOiIxNCIsInAiOiIxMCwtMTAiLCJhIjoiMCJ9XX0.Da9FMZf5wOhb2vkWEfdfHw1UqpYDLyfP0qj6ToE5efs/image;s=1280x1024;q=80', 'https://ireland.apollo.olxcdn.com/v1/files/eyJmbiI6Im9mNXRwaGN1bzNkNTItQVBMIiwidyI6W3siZm4iOiJlbnZmcXFlMWF5NGsxLUFQTCIsInMiOiIxNCIsInAiOiIxMCwtMTAiLCJhIjoiMCJ9XX0.IWRNGH0idX8eN3wwEDYGAXl_7B19qKbxga5JW_IvHcU/image;s=1280x1024;q=80', 'https://ireland.apollo.olxcdn.com/v1/files/eyJmbiI6IjMycjF6YzF2M2FzaDItQVBMIiwidyI6W3siZm4iOiJlbnZmcXFlMWF5NGsxLUFQTCIsInMiOiIxNCIsInAiOiIxMCwtMTAiLCJhIjoiMCJ9XX0.FcWWiNvL0APDIVImYCo2imzeQVJTn1-QKuju2pm2Cn8/image;s=1280x1024;q=80', 'https://ireland.apollo.olxcdn.com/v1/files/eyJmbiI6ImJmbndpN2ticzJ0ODItQVBMIiwidyI6W3siZm4iOiJlbnZmcXFlMWF5NGsxLUFQTCIsInMiOiIxNCIsInAiOiIxMCwtMTAiLCJhIjoiMCJ9XX0.T6hFFhMJl6P0vutHivSx4oJLvvYCv2TXUN2eipyVCXQ/image;s=1280x1024;q=80', 'https://ireland.apollo.olxcdn.com/v1/files/eyJmbiI6ImRnYmRxMm50cTJjdC1BUEwiLCJ3IjpbeyJmbiI6ImVudmZxcWUxYXk0azEtQVBMIiwicyI6IjE0IiwicCI6IjEwLC0xMCIsImEiOiIwIn1dfQ.sSWQnxK6MqoJQRyWloztG7D65i14-AICrZbXmoUgelw/image;s=1280x1024;q=80', 'https://ireland.apollo.olxcdn.com/v1/files/eyJmbiI6InZnYzh5NDhqeXdhdy1BUEwiLCJ3IjpbeyJmbiI6ImVudmZxcWUxYXk0azEtQVBMIiwicyI6IjE0IiwicCI6IjEwLC0xMCIsImEiOiIwIn1dfQ.OLV5AtHDwrRcdvlVD80G_vCK2WgBi35icrylJoAmNkM/image;s=1280x1024;q=80', 'https://ireland.apollo.olxcdn.com/v1/files/eyJmbiI6IjFqZjE1N2FmemJldS1BUEwiLCJ3IjpbeyJmbiI6ImVudmZxcWUxYXk0azEtQVBMIiwicyI6IjE0IiwicCI6IjEwLC0xMCIsImEiOiIwIn1dfQ.4bjOXZRWeAdDuhFPSg9qNhhy4jy_T0EM0DAF4cPlgqU/image;s=1280x1024;q=80', 'https://ireland.apollo.olxcdn.com/v1/files/eyJmbiI6Imx5Z3lvbG84em5rMzItQVBMIiwidyI6W3siZm4iOiJlbnZmcXFlMWF5NGsxLUFQTCIsInMiOiIxNCIsInAiOiIxMCwtMTAiLCJhIjoiMCJ9XX0.zbP2AcALR1xbMMJRIttaCr5dwJv52w08Q67kC8NPadU/image;s=1280x1024;q=80']\n"
     ]
    }
   ],
   "source": [
    "guzikNext = driver.find_element_by_css_selector(\"button[data-cy='ad-media-gallery.next-photo']\")#ZNAJDUJE GUZIK NEXT\n",
    "try:  \n",
    "    guzikCookies = driver.find_element_by_id(\"onetrust-accept-btn-handler\")#ZNAJDUJE GUDZIK OD COOKIES (AKCEPTUJ)\n",
    "    guzikCookies.click()#KLIKA TO CHOLERNE AKCEPTUJ\n",
    "except:\n",
    "    print(\"Nie pominięto\")\n",
    "liczbaZdjec = int(driver.find_element_by_class_name(\"image-gallery-index-total\").text)#ZNAJDUJE I ZAPISUJE LICZBĘ ZDJĘĆ\n",
    "elementZeZdjeciami = driver.find_element_by_class_name(\"image-gallery-slides\")#NO I ZNAJDUJE ELEMENT, KTÓRY ZAWIERA WSZYSTKIE ZDJĘCIA\n",
    "imagesLinks = []\n",
    "for i in range(liczbaZdjec):#KLIKA GUZIK I WPISUJE LINKI DO TABELKI\n",
    "    append_list_of_links_of_images(imagesLinks, elementZeZdjeciami)\n",
    "    guzikNext.click()\n",
    "    time.sleep(1)\n",
    "#print (imagesLinks)\n"
   ]
  },
  {
   "cell_type": "code",
   "execution_count": 14,
   "id": "80b0aecc",
   "metadata": {},
   "outputs": [
    {
     "name": "stdout",
     "output_type": "stream",
     "text": [
      "10\n",
      "Nie stworzono folderu o nazwie: 'zdjecia' w: ./scraped/0/zdjecia\n"
     ]
    }
   ],
   "source": [
    "#print(len(imagesLinks))#LICZBA ZDJĘĆ\n",
    "create_folder_in_given_directory(directory, \"zdjecia\")#TWORZY FOLDER NA ZDJĘCIA\n",
    "for i in range(len(imagesLinks)):\n",
    "    response = requests.get(imagesLinks[i])#NIE WIEM CO TO ROBI, ALE TE KILKA LINIJEK POBIERA ZDJĘCIE\n",
    "    nazwaPliku = \"photo\" + str(i)+\".png\"#ZAZWA ZDJĘCIA\n",
    "    path = os.path.join(directory, \"zdjecia\", nazwaPliku)#ŚCIEŻKA DO ZDJĘCIA\n",
    "    if response.status_code == 200:#I TO KONKRETNIE POBIERA ZDJĘCIE. TE 3 LINIJKI \\/ \\/ \\/\n",
    "        with open(path, 'wb') as file:\n",
    "            file.write(response.content)"
   ]
  }
 ],
 "metadata": {
  "kernelspec": {
   "display_name": "Python 3 (ipykernel)",
   "language": "python",
   "name": "python3"
  },
  "language_info": {
   "codemirror_mode": {
    "name": "ipython",
    "version": 3
   },
   "file_extension": ".py",
   "mimetype": "text/x-python",
   "name": "python",
   "nbconvert_exporter": "python",
   "pygments_lexer": "ipython3",
   "version": "3.9.6"
  }
 },
 "nbformat": 4,
 "nbformat_minor": 5
}
