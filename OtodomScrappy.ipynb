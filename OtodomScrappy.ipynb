{
 "cells": [
  {
   "cell_type": "code",
   "execution_count": 1,
   "id": "898827cb",
   "metadata": {},
   "outputs": [],
   "source": [
    "from selenium import webdriver\n",
    "from selenium.webdriver.common.action_chains import ActionChains\n",
    "from selenium.webdriver.common.by import By\n",
    "import time\n",
    "\n",
    "import os #MAKDIR & DELETING FILES\n",
    "import csv #COMMA SEPARATED VALUES LIBRARY"
   ]
  },
  {
   "cell_type": "code",
   "execution_count": 2,
   "id": "c1876f6e",
   "metadata": {},
   "outputs": [],
   "source": [
    "#TO WŁĄCZA STRONĘ\n",
    "PATH = r\"C:\\Users\\PC\\1st\\chromedriver.exe\"\n",
    "driver = webdriver.Chrome(PATH)\n",
    "driver.get(\"https://www.otodom.pl/pl/oferty/sprzedaz/mieszkanie/mazowieckie\")"
   ]
  },
  {
   "cell_type": "code",
   "execution_count": 3,
   "id": "59fd584d",
   "metadata": {},
   "outputs": [],
   "source": [
    "def create_folder_in_current_directory(folderName):#FOLDER NAME TO STRING - MA BYĆ W CUDZYSŁOWIE\n",
    "    try:\n",
    "        os.mkdir(folderName)\n",
    "    except:\n",
    "        print(\"Nie stworzono folderu o nazwie: '\" + folderName+\"'\")\n",
    "        \n",
    "#DIRECTORY MA BYĆ Z UKOŚNIKAMI \"/\", A NIE \"\\\"!!! POZA TYM OBA ARGUMENTY W CUDZYSŁOWACH\n",
    "def create_folder_in_given_directory(directory, folderName):\n",
    "    path = os.path.join(directory, folderName)\n",
    "    try:\n",
    "        os.mkdir(path)\n",
    "    except:\n",
    "        print(\"Nie stworzono folderu o nazwie: '\" + folderName+\"' w: \" + path)"
   ]
  },
  {
   "cell_type": "code",
   "execution_count": 4,
   "id": "20f7c585",
   "metadata": {},
   "outputs": [
    {
     "name": "stdout",
     "output_type": "stream",
     "text": [
      "Liczba ogłoszeń: 27\n"
     ]
    }
   ],
   "source": [
    "#TO TWOŻY LISTĘ LINKÓW \"links\".\n",
    "posts = driver.find_elements_by_css_selector(\"a[data-cy='listing-item-link']\")\n",
    "links = []\n",
    "#print(\"To jest lista ogłoszeń:\")\n",
    "for post in posts:\n",
    "    links.append(post.get_attribute(\"href\"))\n",
    "    #print(links[posts.index(post)])#To jest tylko do wypisywania linków. Można usunąć.\n",
    "print(\"Liczba ogłoszeń: \" + str(len(links)))"
   ]
  },
  {
   "cell_type": "code",
   "execution_count": 11,
   "id": "c81d9833",
   "metadata": {},
   "outputs": [],
   "source": [
    "data = []\n",
    "driver.get(links[0])#WEJŚĆ NA STRONĘ"
   ]
  },
  {
   "cell_type": "code",
   "execution_count": 12,
   "id": "d0f265bb",
   "metadata": {},
   "outputs": [
    {
     "name": "stdout",
     "output_type": "stream",
     "text": [
      "['Powierzchnia:', '111,07 m', 'Liczba pokoi:', '3', 'Rynek:', 'pierwotny', 'Rodzaj zabudowy:', 'szeregowiec', 'Piętro:', '1', 'Materiał budynku:', 'beton komórkowy', 'Okna:', 'plastikowe', 'Ogrzewanie:', 'gazowe', 'Rok budowy:', '2020', 'Stan wykończenia:', 'do wykończenia', 'Forma własności:', 'pełna własność']\n"
     ]
    }
   ],
   "source": [
    "table = driver.find_element_by_class_name(\"egzohkh2\")\n",
    "fields = table.find_elements_by_xpath(\".//*\")\n",
    "for field in fields:\n",
    "    if (fields.index(field)!=0):\n",
    "        teksty = field.find_elements_by_xpath(\".//*\");\n",
    "        if(len(teksty)==2):\n",
    "            data.append(teksty[0].text)\n",
    "            data.append(teksty[1].text)\n",
    "    else:\n",
    "        teksty = field.find_elements_by_xpath(\".//*\");#ZEBRAĆ WSZYSTKIE JEJ ELEMENTY (TYTUŁ I WARTOŚĆ, ZDJĘCIE Z JAKIEGOŚ POWODU SIE NIE ZNAJDUJE)\n",
    "        if(len(teksty)==2):\n",
    "            data.append(teksty[0].text)#WPISUJE WARTOŚCI DO TABLICY, Z KTÓREJ PÓŹNIEJ BĘDZIE WPISYWANE DO PLIKU\n",
    "            temp = teksty[1].text\n",
    "            temp = temp[:-1]\n",
    "            data.append(temp)\n",
    "print (data)"
   ]
  },
  {
   "cell_type": "code",
   "execution_count": 13,
   "id": "42c02e84",
   "metadata": {},
   "outputs": [],
   "source": [
    "with open('dane.csv', 'w', newline='') as csvfile:\n",
    "    pisacz = csv.writer(csvfile, delimiter=';')\n",
    "    j = 0\n",
    "    i = 0\n",
    "    if (len(data) > 2):\n",
    "        for i in range(0, (int(len(data)/2))):\n",
    "            try:\n",
    "                pisacz.writerow([data[j],data[j+1]])\n",
    "                j+=2\n",
    "            except:\n",
    "                print(\"Nie udało się coś\")\n",
    "    else:\n",
    "        print(\"Za mało danych\")"
   ]
  },
  {
   "cell_type": "code",
   "execution_count": null,
   "id": "b1fcdfed",
   "metadata": {},
   "outputs": [],
   "source": []
  },
  {
   "cell_type": "code",
   "execution_count": 159,
   "id": "90dfc421",
   "metadata": {},
   "outputs": [
    {
     "name": "stdout",
     "output_type": "stream",
     "text": [
      "['Powierzchnia:', '38 m']\n"
     ]
    }
   ],
   "source": [
    "#WAŻNE NA PRZYSZŁOŚĆ\n",
    "field = driver.find_element_by_css_selector(\"div[aria-label='Powierzchnia']\")#ZNALEŹĆ POWIERZCHNIĘ\n",
    "teksty = field.find_elements_by_xpath(\".//*\");#ZEBRAĆ WSZYSTKIE JEJ ELEMENTY (TYTUŁ I WARTOŚĆ, ZDJĘCIE Z JAKIEGOŚ POWODU SIE NIE ZNAJDUJE)\n",
    "data.append(teksty[0].text)#WPISUJE WARTOŚCI DO TABLICY, Z KTÓREJ PÓŹNIEJ BĘDZIE WPISYWANE DO PLIKU\n",
    "temp = teksty[1].text\n",
    "temp = temp[:-1]\n",
    "data.append(temp)\n",
    "print(data)"
   ]
  },
  {
   "cell_type": "code",
   "execution_count": 160,
   "id": "a807adf5",
   "metadata": {},
   "outputs": [],
   "source": [
    "field = driver.find_element_by_css_selector(\"div[aria-label='Forma własności']\")\n",
    "teksty = field.find_elements_by_xpath(\".//*\");\n",
    "data.append(teksty[0].text)\n",
    "data.append(teksty[1].text)"
   ]
  },
  {
   "cell_type": "code",
   "execution_count": null,
   "id": "fca72700",
   "metadata": {},
   "outputs": [],
   "source": []
  }
 ],
 "metadata": {
  "kernelspec": {
   "display_name": "Python 3 (ipykernel)",
   "language": "python",
   "name": "python3"
  },
  "language_info": {
   "codemirror_mode": {
    "name": "ipython",
    "version": 3
   },
   "file_extension": ".py",
   "mimetype": "text/x-python",
   "name": "python",
   "nbconvert_exporter": "python",
   "pygments_lexer": "ipython3",
   "version": "3.9.6"
  }
 },
 "nbformat": 4,
 "nbformat_minor": 5
}
