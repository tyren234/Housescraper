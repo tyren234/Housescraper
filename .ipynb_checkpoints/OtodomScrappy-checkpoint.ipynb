{
 "cells": [
  {
   "cell_type": "code",
   "execution_count": 141,
   "id": "898827cb",
   "metadata": {},
   "outputs": [],
   "source": [
    "from selenium import webdriver\n",
    "from selenium.webdriver.common.action_chains import ActionChains\n",
    "from selenium.webdriver.common.by import By\n",
    "import time\n",
    "\n",
    "import os #MAKDIR & DELETING FILES\n",
    "import csv #COMMA SEPARATED VALUES LIBRARY"
   ]
  },
  {
   "cell_type": "code",
   "execution_count": 142,
   "id": "c1876f6e",
   "metadata": {},
   "outputs": [],
   "source": [
    "#TO WŁĄCZA STRONĘ\n",
    "PATH = r\"C:\\Users\\PC\\1st\\chromedriver.exe\"\n",
    "driver = webdriver.Chrome(PATH)\n",
    "driver.get(\"https://www.otodom.pl/pl/oferty/sprzedaz/mieszkanie/mazowieckie\")"
   ]
  },
  {
   "cell_type": "code",
   "execution_count": 143,
   "id": "59fd584d",
   "metadata": {},
   "outputs": [],
   "source": [
    "def create_folder_in_current_directory(folderName):#FOLDER NAME TO STRING - MA BYĆ W CUDZYSŁOWIE\n",
    "    try:\n",
    "        os.mkdir(folderName)\n",
    "    except:\n",
    "        print(\"Nie stworzono folderu o nazwie: '\" + folderName+\"'\")\n",
    "        \n",
    "#DIRECTORY MA BYĆ Z UKOŚNIKAMI \"/\", A NIE \"\\\"!!! POZA TYM OBA ARGUMENTY W CUDZYSŁOWACH\n",
    "def create_folder_in_given_directory(directory, folderName):\n",
    "    path = os.path.join(directory, folderName)\n",
    "    try:\n",
    "        os.mkdir(path)\n",
    "    except:\n",
    "        print(\"Nie stworzono folderu o nazwie: '\" + folderName+\"' w: \" + path)"
   ]
  },
  {
   "cell_type": "code",
   "execution_count": 144,
   "id": "20f7c585",
   "metadata": {},
   "outputs": [
    {
     "name": "stdout",
     "output_type": "stream",
     "text": [
      "Liczba ogłoszeń: 27\n"
     ]
    }
   ],
   "source": [
    "#TO TWOŻY LISTĘ LINKÓW \"links\".\n",
    "posts = driver.find_elements_by_css_selector(\"a[data-cy='listing-item-link']\")\n",
    "links = []\n",
    "#print(\"To jest lista ogłoszeń:\")\n",
    "for post in posts:\n",
    "    links.append(post.get_attribute(\"href\"))\n",
    "    #print(links[posts.index(post)])#To jest tylko do wypisywania linków. Można usunąć.\n",
    "print(\"Liczba ogłoszeń: \" + str(len(links)))"
   ]
  },
  {
   "cell_type": "code",
   "execution_count": 145,
   "id": "5bd597af",
   "metadata": {},
   "outputs": [
    {
     "name": "stdout",
     "output_type": "stream",
     "text": [
      "Nie stworzono folderu o nazwie: '0' w: ./scraped\\0\n"
     ]
    }
   ],
   "source": [
    "create_folder_in_given_directory(\"./scraped\", \"0\")#ZROBIĆ ITERACJĘ Z TYM ZEREM\n",
    "directory = \"./scraped/\" + \"0\" + \"/\"#ZAMIAST ZERA TUTAJ DAĆ TEN ITERATOR STR(I)"
   ]
  },
  {
   "cell_type": "code",
   "execution_count": 146,
   "id": "c81d9833",
   "metadata": {},
   "outputs": [],
   "source": [
    "data = []#TU BĘDĄ WSZYSTKIE PARAMETRY MIESZKANIA\n",
    "driver.get(links[0])#WEJŚĆ NA STRONĘ"
   ]
  },
  {
   "cell_type": "code",
   "execution_count": 147,
   "id": "2986438a",
   "metadata": {},
   "outputs": [],
   "source": [
    "cena = driver.find_element_by_css_selector(\"strong[aria-label='Cena']\")\n",
    "cenaMetra = driver.find_element_by_css_selector(\"div[aria-label='Cena za metr kwadratowy']\")\n",
    "data.append(\"Cena:\")\n",
    "data.append(cena.text)\n",
    "data.append(\"Cena za metr kwadratowy:\")\n",
    "data.append(cenaMetra.text[:-1])"
   ]
  },
  {
   "cell_type": "code",
   "execution_count": 148,
   "id": "d0f265bb",
   "metadata": {},
   "outputs": [
    {
     "name": "stdout",
     "output_type": "stream",
     "text": [
      "['Cena:', '1 495 000 zł', 'Cena za metr kwadratowy:', '15 646 zł/m', 'Powierzchnia:', '95,55 m', 'Liczba pokoi:', '4', 'Rynek:', 'wtórny', 'Rodzaj zabudowy:', 'blok', 'Piętro:', '1', 'Liczba pięter:', '6', 'Ogrzewanie:', 'miejskie', 'Rok budowy:', '2010', 'Stan wykończenia:', 'do zamieszkania', 'Czynsz:', '1 100 zł', 'Forma własności:', 'spółdzielcze wł. z KW']\n"
     ]
    }
   ],
   "source": [
    "table = driver.find_element_by_class_name(\"egzohkh2\")#ZNAJDUJE TABELEKĘ ZE SZCZEGÓŁAMI\n",
    "fields = table.find_elements_by_xpath(\".//*\")#ZNAJDUJE WSZYSTKIE ELEMENTY W TABELCE\n",
    "for field in fields:\n",
    "    teksty = field.find_elements_by_xpath(\".//*\");#ZEBRAĆ WSZYSTKIE JEJ ELEMENTY (TYTUŁ I WARTOŚĆ, ZDJĘCIE Z JAKIEGOŚ POWODU SIE NIE ZNAJDUJE)\n",
    "    if (fields.index(field)!=0):#METRY KWADRATOWE WYWALAŁY BŁĄD, WIĘC POWIERZCHNIA JEST OSOBNO\n",
    "        if(len(teksty)==2):\n",
    "            data.append(teksty[0].text)\n",
    "            data.append(teksty[1].text)\n",
    "    else:#TO JEST POWIERZCHNIA\n",
    "        if(len(teksty)==2):\n",
    "            data.append(teksty[0].text)#WPISUJE WARTOŚCI DO TABLICY, Z KTÓREJ PÓŹNIEJ BĘDZIE WPISYWANE DO PLIKU\n",
    "            temp = teksty[1].text\n",
    "            temp = temp[:-1]\n",
    "            data.append(temp)\n",
    "print (data)"
   ]
  },
  {
   "cell_type": "code",
   "execution_count": 149,
   "id": "42c02e84",
   "metadata": {},
   "outputs": [],
   "source": [
    "with open(directory+'dane.csv', 'w', newline='') as csvfile:#OTWIERA DANE.CSV I USUWA WSZYSTKO CO W NICH BYŁO JEŻELI COŚ BYŁO\n",
    "    pisacz = csv.writer(csvfile, delimiter=';')#POTRZEBNE DLA BIBLIOTEKI CSV\n",
    "    j = 0\n",
    "    i = 0\n",
    "    if (len(data) > 2):\n",
    "        for i in range(0, (int(len(data)/2))):\n",
    "            try:\n",
    "                pisacz.writerow([data[j],data[j+1]])#PISZE PO DWIE KOMÓRKI Z DANYCH NA WIERSZ\n",
    "                j+=2\n",
    "            except:\n",
    "                print(\"Nie udało się coś\")\n",
    "    else:\n",
    "        print(\"Za mało danych\")"
   ]
  },
  {
   "cell_type": "code",
   "execution_count": 150,
   "id": "8661ee43",
   "metadata": {},
   "outputs": [],
   "source": [
    "#NIE TYLKO DODATKOWE INFORMACJE MAJĄ TĄ SAMĄ DLASĘ, ALE JAKIEŚ RZECZY TYPU WYPOSARZENIE, ALBO ZABEZPIECZENIA\n",
    "infDodatkowe = driver.find_elements_by_class_name(\"ex3yvbv1\")#LOKALIZUJE DODATKOWE INFORMACJE\n",
    "listaTekstow = [\"Informacje dodatkowe:\"]\n",
    "for i in range(len(infDodatkowe)):\n",
    "    listaTekstow.append(infDodatkowe[i].text)\n",
    "with open(directory+'dane.csv', 'a', newline='') as csvfile:\n",
    "    pisacz = csv.writer(csvfile, delimiter=';')\n",
    "    pisacz.writerow(listaTekstow)"
   ]
  },
  {
   "cell_type": "code",
   "execution_count": 151,
   "id": "b1fcdfed",
   "metadata": {},
   "outputs": [],
   "source": [
    "opis = driver.find_element_by_css_selector('div[data-cy=\"adPageAdDescription\"]')#ZNAJDUJE OPIS, PO JEGO DATA-CY\n",
    "teksty = opis.find_elements_by_tag_name(\"p\");#ZNAJDUJE WSZYSTKIE DZIECI OPISU\n",
    "txtf = open(directory+\"desription.txt\", \"w\")#TWORZY PLIK TEKSTOWY\n",
    "for i in range(len(teksty)):\n",
    "    txtf.write(teksty[i].text + \"\\n\")#ZAPISUJE WSZYSTKIE LINIJKI OPISU PO KOLEI \n",
    "txtf.close()#ZAMYKA PLIK"
   ]
  },
  {
   "cell_type": "code",
   "execution_count": null,
   "id": "49049ab8",
   "metadata": {},
   "outputs": [],
   "source": []
  }
 ],
 "metadata": {
  "kernelspec": {
   "display_name": "Python 3 (ipykernel)",
   "language": "python",
   "name": "python3"
  },
  "language_info": {
   "codemirror_mode": {
    "name": "ipython",
    "version": 3
   },
   "file_extension": ".py",
   "mimetype": "text/x-python",
   "name": "python",
   "nbconvert_exporter": "python",
   "pygments_lexer": "ipython3",
   "version": "3.9.6"
  }
 },
 "nbformat": 4,
 "nbformat_minor": 5
}
