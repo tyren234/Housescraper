{
 "cells": [
  {
   "cell_type": "code",
   "execution_count": 1,
   "id": "898827cb",
   "metadata": {},
   "outputs": [],
   "source": [
    "from selenium import webdriver\n",
    "from selenium.webdriver.common.action_chains import ActionChains\n",
    "from selenium.webdriver.common.by import By\n",
    "import time"
   ]
  },
  {
   "cell_type": "code",
   "execution_count": 6,
   "id": "c1876f6e",
   "metadata": {},
   "outputs": [],
   "source": [
    "#TO WŁĄCZA STRONĘ\n",
    "PATH = r\"C:\\Users\\PC\\1st\\chromedriver.exe\"\n",
    "driver = webdriver.Chrome(PATH)\n",
    "driver.get(\"https://www.otodom.pl/pl/oferty/sprzedaz/mieszkanie/mazowieckie\")"
   ]
  },
  {
   "cell_type": "code",
   "execution_count": 10,
   "id": "20f7c585",
   "metadata": {},
   "outputs": [
    {
     "name": "stdout",
     "output_type": "stream",
     "text": [
      "To jest lista ogłoszeń:\n",
      "https://www.otodom.pl/pl/oferta/4-pokoje-mieszkanie-marki-95-m2-ID4aWX4\n",
      "https://www.otodom.pl/pl/oferta/wyjatkowe-3-pokojowe-2-lazienki-nowe-mieszkanie-ID4dnNG\n",
      "https://www.otodom.pl/pl/oferta/mieszkanie-89-m2-ursus-dwa-miejsca-garazowe-ID4dmhr\n",
      "https://www.otodom.pl/pl/oferta/sprzedam-bezposrednio-3pokoje-z-duzym-ogrodem-ID4dl00\n",
      "https://www.otodom.pl/pl/oferta/3-pokojowe-mieszkanie-wilanow-ul-branickiego-ID4bIjT\n",
      "https://www.otodom.pl/pl/oferta/mieszkanie-42-12m2-dwupokojowe-balkon-ID4dvTh\n",
      "https://www.otodom.pl/pl/oferta/mieszkanie-40m2-miejsce-komorka-ID4dzbX\n",
      "https://www.otodom.pl/pl/oferta/mieszkanie-70m2-metro-stoklosy-zwm-po-remoncie-ID4dm3Y\n",
      "https://www.otodom.pl/pl/oferta/mieszkanie-bez-czynszowe-wykonczone-120m2-ID44jdA\n",
      "https://www.otodom.pl/pl/oferta/pruszkow-3-pokoje-44-m2-4-pietro-bez-prowizji-ID4dpk8\n",
      "https://www.otodom.pl/pl/oferta/segment-104-m2-ID4dsvk\n",
      "https://www.otodom.pl/pl/oferta/mieszkanie-30-m2-1pok-praga-poludnie-minska-ID4dzby\n",
      "https://www.otodom.pl/pl/oferta/63-m2-3-pokoje-komorska-4-balkon-widne-ID4cUAg\n",
      "https://www.otodom.pl/pl/oferta/sprzedam-bezposrednio-3-pokoje-warszawa-bemowo-ID4dzaA\n",
      "https://www.otodom.pl/pl/oferta/urocze-mieszkanie-w-miasteczku-wilanow-ID4dzbd\n",
      "https://www.otodom.pl/pl/oferta/mieszkanie-30-m2-w-po-remoncie-ul-minska-ID4cQKh\n",
      "https://www.otodom.pl/pl/oferta/dwupokojowe-40-m2-z-duza-loggia-ID4dzb2\n",
      "https://www.otodom.pl/pl/oferta/mieszkanie-52-76-m-warszawa-ID4dzb0\n",
      "https://www.otodom.pl/pl/oferta/2-pokoje-oddzielna-kuchnia-36m-blisko-klif-ID4dzaZ\n",
      "https://www.otodom.pl/pl/oferta/bezposrednio-3-pokoje-garaz-komorka-ewen-shiraz-ID4dvRz\n",
      "https://www.otodom.pl/pl/oferta/mieszkanie-3-pok-przy-metrze-kondratowicza-48-m2-ID4cOQG\n",
      "https://www.otodom.pl/pl/oferta/aroma-park-etap-iii-nr-d2-00-14-bud-d2-ID4cAsc\n",
      "https://www.otodom.pl/pl/oferta/unikatowa-inwestycja-na-mokotowie-4-pok-155m2-ID4dzas\n",
      "https://www.otodom.pl/pl/oferta/3-pokojowe-mieszkanie-54m2-warszawa-bialoleka-ID4dzap\n",
      "https://www.otodom.pl/pl/oferta/zielona-okolica-z-dala-od-zgielku-2-pok-44m2-ID4dzam\n",
      "https://www.otodom.pl/pl/oferta/zlota-44-mamy-kontakt-do-kazdego-lokalu-ID4dzaj\n",
      "https://www.otodom.pl/pl/oferta/kawalerka-wsrod-terenow-zielonych-35m2-warszawa-ID4dzah\n"
     ]
    }
   ],
   "source": [
    "posts = driver.find_elements_by_css_selector(\"a[data-cy='listing-item-link']\")\n",
    "print(\"To jest lista ogłoszeń:\")\n",
    "for post in posts:\n",
    "    links.append\n",
    "    print(post.get_attribute(\"href\"))"
   ]
  },
  {
   "cell_type": "code",
   "execution_count": null,
   "id": "90dfc421",
   "metadata": {},
   "outputs": [],
   "source": [
    "driver.get()"
   ]
  }
 ],
 "metadata": {
  "kernelspec": {
   "display_name": "Python 3 (ipykernel)",
   "language": "python",
   "name": "python3"
  },
  "language_info": {
   "codemirror_mode": {
    "name": "ipython",
    "version": 3
   },
   "file_extension": ".py",
   "mimetype": "text/x-python",
   "name": "python",
   "nbconvert_exporter": "python",
   "pygments_lexer": "ipython3",
   "version": "3.9.6"
  }
 },
 "nbformat": 4,
 "nbformat_minor": 5
}
